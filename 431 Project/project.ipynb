{
 "cells": [
  {
   "cell_type": "code",
   "execution_count": 44,
   "metadata": {},
   "outputs": [
    {
     "name": "stdout",
     "output_type": "stream",
     "text": [
      "Removing 50!\n",
      "[4, 3, 2, 1, 0, 0, 100]\n"
     ]
    }
   ],
   "source": [
    "#LISTS\n",
    "\n",
    "rocky = [0, 1, 2, 3, 4]\n",
    "#[0, 1, 2, 3, 4]\n",
    "\n",
    "rocky.append(5)\n",
    "#[0, 1, 2, 3, 4, 5]\n",
    "\n",
    "bw = [98, 99, 100]\n",
    "rocky.extend(bw)\n",
    "#[0, 1, 2, 3, 4, 5, 98, 99, 100]\n",
    "\n",
    "rocky.insert(6, 50)\n",
    "#[0, 1, 2, 3, 4, 5, 50, 98, 99, 100]\n",
    "\n",
    "rocky.remove(0)\n",
    "#[1, 2, 3, 4, 5, 50, 98, 99, 100]\n",
    "\n",
    "print(\"Removing \" + str(rocky.pop(5)) + \"!\")\n",
    "#Removing 50!\n",
    "#[1, 2, 3, 4, 5, 98, 99, 100]\n",
    "\n",
    "rocky.clear()\n",
    "#[]\n",
    "\n",
    "rocky = [i for i in range(5)]\n",
    "#[0, 1, 2, 3, 4]\n",
    "\n",
    "rocky.index(4)\n",
    "#4\n",
    "\n",
    "rocky.index(5)\n",
    "#ValueError\n",
    "\n",
    "rocky.append(0)\n",
    "rocky.count(0)\n",
    "#2\n",
    "\n",
    "rocky.sort()\n",
    "#[0, 0, 1, 2, 3, 4]\n",
    "\n",
    "rocky.reverse()\n",
    "#[4, 3, 2, 1, 0, 0]\n",
    "\n",
    "rocky_copy = rocky.copy()\n",
    "rocky_copy.append(100)\n",
    "#rocky_copy: [4, 3, 2, 1, 0, 0, 100]\n",
    "#rocky: [4, 3, 2, 1, 0, 0]\n"
   ]
  },
  {
   "cell_type": "code",
   "execution_count": 49,
   "metadata": {},
   "outputs": [
    {
     "name": "stdout",
     "output_type": "stream",
     "text": [
      "deque([0, 1, 4, 9, 16])\n",
      "deque([1, 4, 9, 16])\n",
      "deque([4, 9, 16])\n",
      "deque([9, 16])\n",
      "deque([16])\n",
      "deque([])\n"
     ]
    },
    {
     "ename": "AttributeError",
     "evalue": "'list' object has no attribute 'enqueue'",
     "output_type": "error",
     "traceback": [
      "\u001b[0;31m---------------------------------------------------------------------------\u001b[0m",
      "\u001b[0;31mAttributeError\u001b[0m                            Traceback (most recent call last)",
      "Cell \u001b[0;32mIn[49], line 14\u001b[0m\n\u001b[1;32m     11\u001b[0m     \u001b[39mprint\u001b[39m(rocky)\n\u001b[1;32m     13\u001b[0m bw \u001b[39m=\u001b[39m [i \u001b[39mfor\u001b[39;00m i \u001b[39min\u001b[39;00m \u001b[39mrange\u001b[39m(\u001b[39m1\u001b[39m,\u001b[39m6\u001b[39m)]\n\u001b[0;32m---> 14\u001b[0m bw\u001b[39m.\u001b[39;49menqueue(\u001b[39m6\u001b[39m)\n\u001b[1;32m     15\u001b[0m \u001b[39mprint\u001b[39m(bw)\n",
      "\u001b[0;31mAttributeError\u001b[0m: 'list' object has no attribute 'enqueue'"
     ]
    }
   ],
   "source": [
    "#QUEUES\n",
    "\n",
    "from collections import deque\n",
    "\n",
    "rocky = deque([])\n",
    "for i in range(5):\n",
    "    rocky.append(i**2)\n",
    "print(rocky)\n",
    "for i in range(5):\n",
    "    rocky.popleft()\n",
    "    print(rocky)\n",
    "\n",
    "bw = [i for i in range(1,6)]\n",
    "bw.enqueue(6)\n",
    "print(bw)"
   ]
  },
  {
   "cell_type": "code",
   "execution_count": 45,
   "metadata": {},
   "outputs": [
    {
     "name": "stdout",
     "output_type": "stream",
     "text": [
      "[1, 2, 3, 4, 5]\n",
      "[1, 2, 3, 4, 5, 'bw']\n",
      "bw is getting popped!\n",
      "[1, 2, 3, 4, 5]\n"
     ]
    }
   ],
   "source": [
    "#STACKS\n",
    "rocky = [i for i in range(1,6)]\n",
    "print(rocky)\n",
    "rocky.append(\"bw\")\n",
    "print(rocky)\n",
    "print(rocky.pop() + \" is getting popped!\")\n",
    "print(rocky)\n"
   ]
  },
  {
   "cell_type": "code",
   "execution_count": 17,
   "metadata": {},
   "outputs": [
    {
     "name": "stdout",
     "output_type": "stream",
     "text": [
      "[[0, 0, 0, 0, 0], [0, 0, 0, 0, 0], [0, 0, 0, 0, 0], [0, 0, 0, 0, 0], [0, 0, 0, 0, 0]]\n",
      "[[0, 0, 0, 0, 0], [0, 0, 0, 0, 0], [0, 0, 0, 0, 0], [0, 0, 0, 0, 0], [0, 0, 0, 0, 0]]\n"
     ]
    }
   ],
   "source": [
    "#LIST COMPREHENSION\n",
    "\n",
    "#the hard way of fillings a 2D array with 0's\n",
    "rocky = []\n",
    "bw = []\n",
    "for i in range(0, 5):\n",
    "    for j in range(0, 5):\n",
    "        rocky.append(0)\n",
    "    bw.append(rocky)\n",
    "    rocky = []\n",
    "print(bw)\n",
    "\n",
    "#the easy way\n",
    "bw = []\n",
    "for i in range(5):\n",
    "    rocky = [0 for i in range(5)]\n",
    "    bw.append(rocky)\n",
    "print(bw)\n"
   ]
  },
  {
   "cell_type": "code",
   "execution_count": 48,
   "metadata": {},
   "outputs": [
    {
     "name": "stdout",
     "output_type": "stream",
     "text": [
      "['Amonoo', 'Anwar', 'Cinque', 'Jacobson', 'Barrington']\n",
      "[10, 11, 11, 16, 17]\n",
      "['EBEN AMONOO', 'HUSSAM ANWAR', 'KAYLA CINQUE', 'SAMANTHA JACOBSON', 'MATTHEW BARRINGTON']\n"
     ]
    }
   ],
   "source": [
    "\n",
    "\n",
    "names = [\n",
    "    \"Eben Amonoo\",\n",
    "    \"Hussam Anwar\",\n",
    "    \"Kayla Cinque\",\n",
    "    \"Samantha Jacobson\",\n",
    "    \"Matthew Barrington\"\n",
    "]\n",
    "\n",
    "last_names = [name.split(' ')[-1] for name in names]\n",
    "print(last_names)\n",
    "#['Amonoo', 'Anwar', 'Cinque', 'Jacobson', 'Barrington']\n",
    "\n",
    "length_names = [(len(name) - 1) for name in names]\n",
    "print(length_names)\n",
    "#[10, 11, 11, 16, 17]\n",
    "\n",
    "upper_names = [name.upper() for name in names]\n",
    "print(upper_names)\n",
    "#['EBEN AMONOO', 'HUSSAM ANWAR', 'KAYLA CINQUE', 'SAMANTHA JACOBSON', 'MATTHEW BARRINGTON']"
   ]
  },
  {
   "cell_type": "code",
   "execution_count": 12,
   "metadata": {},
   "outputs": [
    {
     "name": "stdout",
     "output_type": "stream",
     "text": [
      "{'name': 'Dodge', 'make': 'Charger', 'year': '2023'}\n",
      "Dodge\n",
      "Not found.\n",
      "dict_keys(['name', 'make', 'year', 'color'])\n",
      "dict_values(['Dodge', 'Challenger', '2024', 'grey'])\n",
      "dict_items([('name', 'Dodge'), ('make', 'Challenger'), ('year', '2024'), ('color', 'grey')])\n",
      "name Dodge\n",
      "make Challenger\n",
      "year 2024\n",
      "color grey\n"
     ]
    }
   ],
   "source": [
    "#Dictionaries\n",
    "car = {\n",
    "    \"name\": \"Dodge\",\n",
    "    \"make\": \"Charger\",\n",
    "    \"year\": \"2023\"\n",
    "}\n",
    "print(car)\n",
    "#{'name': 'Dodge', 'make': 'Charger', 'year': '2023'}\n",
    "\n",
    "print(car[\"name\"])\n",
    "#Dodge\n",
    "\n",
    "print(car.get(\"color\", \"Not found.\"))\n",
    "#Not found.\n",
    "\n",
    "car[\"color\"] = \"grey\"\n",
    "#{'name': 'Dodge', 'make': 'Charger', 'year': '2023', 'color': 'grey'}\n",
    "\n",
    "car.update({\"make\": \"Challenger\", \"year\": \"2024\"})\n",
    "#{'name': 'Dodge', 'make': 'Challenger', 'year': '2024', 'color': 'grey'}\n",
    "\n",
    "print(car.keys())\n",
    "#dict_keys(['name', 'make', 'year', 'color'])\n",
    "\n",
    "print(car.values())\n",
    "#dict_values(['Dodge', 'Challenger', '2024', 'grey'])\n",
    "\n",
    "print(car.items())\n",
    "#dict_items([('name', 'Dodge'), ('make', 'Challenger'), ('year', '2024'), ('color', 'grey')])\n",
    "\n",
    "for key, value in car.items():\n",
    "    print(key, value)\n",
    "#name Dodge\n",
    "#make Challenger\n",
    "#year 2024\n",
    "#color grey"
   ]
  },
  {
   "cell_type": "code",
   "execution_count": 13,
   "metadata": {},
   "outputs": [
    {
     "ename": "TypeError",
     "evalue": "'tuple' object does not support item assignment",
     "output_type": "error",
     "traceback": [
      "\u001b[0;31m---------------------------------------------------------------------------\u001b[0m",
      "\u001b[0;31mTypeError\u001b[0m                                 Traceback (most recent call last)",
      "Cell \u001b[0;32mIn[13], line 10\u001b[0m\n\u001b[1;32m      1\u001b[0m \u001b[39m#Tuples\u001b[39;00m\n\u001b[1;32m      2\u001b[0m names \u001b[39m=\u001b[39m (\n\u001b[1;32m      3\u001b[0m     \u001b[39m\"\u001b[39m\u001b[39mEben Amonoo\u001b[39m\u001b[39m\"\u001b[39m,\n\u001b[1;32m      4\u001b[0m     \u001b[39m\"\u001b[39m\u001b[39mHussam Anwar\u001b[39m\u001b[39m\"\u001b[39m,\n\u001b[0;32m   (...)\u001b[0m\n\u001b[1;32m      7\u001b[0m     \u001b[39m\"\u001b[39m\u001b[39mMatthew Barrington\u001b[39m\u001b[39m\"\u001b[39m\n\u001b[1;32m      8\u001b[0m )\n\u001b[0;32m---> 10\u001b[0m names[\u001b[39m4\u001b[39;49m] \u001b[39m=\u001b[39m \u001b[39m\"\u001b[39m\u001b[39mrocky\u001b[39m\u001b[39m\"\u001b[39m\n",
      "\u001b[0;31mTypeError\u001b[0m: 'tuple' object does not support item assignment"
     ]
    }
   ],
   "source": [
    "#Tuples\n",
    "names = (\n",
    "    \"Eben Amonoo\",\n",
    "    \"Hussam Anwar\",\n",
    "    \"Kayla Cinque\",\n",
    "    \"Samantha Jacobson\",\n",
    "    \"Matthew Barrington\"\n",
    ")\n",
    "\n",
    "names[4] = \"rocky\""
   ]
  },
  {
   "cell_type": "code",
   "execution_count": 23,
   "metadata": {},
   "outputs": [
    {
     "name": "stdout",
     "output_type": "stream",
     "text": [
      "{'370', '350', '470', '330'}\n",
      "{'470'}\n",
      "{'370', '490', '470', '330', '548', '351', '350'}\n"
     ]
    }
   ],
   "source": [
    "#Sets\n",
    "\n",
    "my_classes = {\"330\", \"350\", \"370\", \"470\"}\n",
    "print(my_classes)\n",
    "#{'370', '350', '470', '330'}\n",
    "\n",
    "friend_classes = {\"490\", \"470\", \"351\", \"548\"}\n",
    "#What classes do my friend and I have together?\n",
    "print(my_classes.intersection(friend_classes))\n",
    "#{'470'}\n",
    "\n",
    "#Union\n",
    "print(my_classes.union(friend_classes))\n",
    "#{'370', '490', '470', '330', '548', '351', '350'}\n",
    "#No repeats!\n"
   ]
  },
  {
   "cell_type": "code",
   "execution_count": 25,
   "metadata": {},
   "outputs": [
    {
     "name": "stdout",
     "output_type": "stream",
     "text": [
      "['x']\n"
     ]
    }
   ],
   "source": [
    "x = []\n",
    "x.append('x')\n",
    "print(x)\n"
   ]
  },
  {
   "cell_type": "code",
   "execution_count": 7,
   "metadata": {},
   "outputs": [
    {
     "name": "stdout",
     "output_type": "stream",
     "text": [
      "2\n",
      "5365912\n"
     ]
    }
   ],
   "source": [
    "def main():\n",
    "    my_file = open(\"randnum.txt\" , \"r\")\n",
    "    \n",
    "    data = my_file.read()\n",
    "    list = data.split(\"\\n\")\n",
    "        \n",
    "    for i in range(0, len(list)):\n",
    "        list[i] = int(list[i])\n",
    "        \n",
    "    print(min(list))\n",
    "    print(max(list))\n",
    "    my_file.close()\n",
    "\n",
    "\n",
    "main()"
   ]
  },
  {
   "cell_type": "code",
   "execution_count": 8,
   "metadata": {},
   "outputs": [
    {
     "name": "stdout",
     "output_type": "stream",
     "text": [
      "x is odd!\n"
     ]
    }
   ],
   "source": [
    "#IF, ELIF, ELSE STATEMENT\n",
    "\n",
    "x = 17\n",
    "if x == 0:\n",
    "    print(\"x is zero!\")\n",
    "elif x % 2 == 0:\n",
    "    print(\"x is even!\")\n",
    "else:\n",
    "    print(\"x is odd!\")\n"
   ]
  },
  {
   "cell_type": "code",
   "execution_count": 9,
   "metadata": {},
   "outputs": [
    {
     "ename": "SyntaxError",
     "evalue": "invalid syntax (172293263.py, line 3)",
     "output_type": "error",
     "traceback": [
      "\u001b[0;36m  Cell \u001b[0;32mIn[9], line 3\u001b[0;36m\u001b[0m\n\u001b[0;31m    match name:\u001b[0m\n\u001b[0m          ^\u001b[0m\n\u001b[0;31mSyntaxError\u001b[0m\u001b[0;31m:\u001b[0m invalid syntax\n"
     ]
    }
   ],
   "source": [
    "#MATCH CASE\n",
    "\n",
    "#try 1\n",
    "name = \"rocky\"\n",
    "#try 2\n",
    "name = \"Frostbite Falls, MN\"\n",
    "\n",
    "#requires python 3.10 or newer\n",
    "match name:\n",
    "    case \"rocky\":\n",
    "        print(\"Our hero!\")\n",
    "    case \"bw\":\n",
    "        print(\"His sidekick!\")\n",
    "    case \"boris\":\n",
    "        print(\"Oh no!\")\n",
    "    case _:\n",
    "        print(\"...and friends\")\n",
    "\n",
    "#try 1:\n",
    "#Our hero!\n",
    "#try 2:\n",
    "#...and friends\n"
   ]
  },
  {
   "cell_type": "code",
   "execution_count": 11,
   "metadata": {},
   "outputs": [
    {
     "name": "stdout",
     "output_type": "stream",
     "text": [
      "Thats what she said.\n",
      "Through concentration, I can raise and lower my cholesterol at will.\n",
      "Fact: Bears eat beets. Bears. Beets. Battlestar Galactica.\n"
     ]
    }
   ],
   "source": [
    "#Sequential control\n",
    "\n",
    "main()\n",
    "\n",
    "def main():\n",
    "    Michael()\n",
    "    Dwight()\n",
    "    Jim()\n",
    "\n",
    "def Michael():\n",
    "    print(\"Thats what she said.\")\n",
    "\n",
    "def Jim():\n",
    "    print(\"Fact: Bears eat beets. Bears. Beets. Battlestar Galactica.\")\n",
    "\n",
    "def Dwight():\n",
    "    print(\"Through concentration, I can raise and lower my cholesterol at will.\")\n",
    "\n",
    "#Thats what she said.\n",
    "#Through concentration, I can raise and lower my cholesterol at will.\n",
    "#Fact: Bears eat beets. Bears. Beets. Battlestar Galactica."
   ]
  },
  {
   "cell_type": "code",
   "execution_count": 17,
   "metadata": {},
   "outputs": [
    {
     "name": "stdout",
     "output_type": "stream",
     "text": [
      "its easy as...\n",
      "123abc123abc[0, 1, 2, 3, 4, 5, 6, 7, 8, 9]\n"
     ]
    }
   ],
   "source": [
    "#FOR loop\n",
    "\n",
    "x = [1, 2, 3, 'a', 'b', 'c']\n",
    "print(\"its easy as...\")\n",
    "for i in x:\n",
    "    print(i, end = \"\")\n",
    "\n",
    "for i in range(len(x)):\n",
    "    print(x[i], end = \"\")\n",
    "\n",
    "print([i for i in range(10)])\n",
    "\n",
    "#its easy as...\n",
    "#123abc123abc\n",
    "#[0, 1, 2, 3, 4, 5, 6, 7, 8, 9]"
   ]
  },
  {
   "cell_type": "code",
   "execution_count": 18,
   "metadata": {},
   "outputs": [
    {
     "name": "stdout",
     "output_type": "stream",
     "text": [
      "Eat some food? (y/n)\n",
      "Yum!\n",
      "Eat some food? (y/n)\n",
      "Im full!\n"
     ]
    }
   ],
   "source": [
    "#WHILE Loop\n",
    "\n",
    "imHungry = True\n",
    "mealsEaten = 0\n",
    "\n",
    "while imHungry:\n",
    "    print(\"Eat some food? (y/n)\")\n",
    "    decision = str(input())\n",
    "    if decision == \"y\" or decision == \"Y\":\n",
    "        print(\"Yum!\")\n",
    "        mealsEaten = mealsEaten + 1\n",
    "    else:\n",
    "        print(\"Im full!\")\n",
    "        imHungry = False\n",
    "\n",
    "#Eat some food? (y/n)\n",
    "#y\n",
    "#Yum!\n",
    "#Eat some food? (y/n)\n",
    "#n\n",
    "#Im full!\n"
   ]
  },
  {
   "cell_type": "code",
   "execution_count": 20,
   "metadata": {},
   "outputs": [
    {
     "name": "stdout",
     "output_type": "stream",
     "text": [
      "6\n"
     ]
    }
   ],
   "source": [
    "x = 5\n",
    "while True:\n",
    "    x = x + 1\n",
    "    print(x)\n",
    "    if x > 5:\n",
    "        break\n",
    "\n",
    "#6"
   ]
  },
  {
   "cell_type": "code",
   "execution_count": 14,
   "metadata": {},
   "outputs": [
    {
     "ename": "NameError",
     "evalue": "name 'running_sum' is not defined",
     "output_type": "error",
     "traceback": [
      "\u001b[0;31m---------------------------------------------------------------------------\u001b[0m",
      "\u001b[0;31mNameError\u001b[0m                                 Traceback (most recent call last)",
      "Cell \u001b[0;32mIn[14], line 2\u001b[0m\n\u001b[1;32m      1\u001b[0m \u001b[39m#call on main (main gets executed)\u001b[39;00m\n\u001b[0;32m----> 2\u001b[0m main()\n\u001b[1;32m      4\u001b[0m \u001b[39mdef\u001b[39;00m \u001b[39mmain\u001b[39m():\n\u001b[1;32m      5\u001b[0m     total \u001b[39m=\u001b[39m listSum()\n",
      "Cell \u001b[0;32mIn[6], line 5\u001b[0m, in \u001b[0;36mmain\u001b[0;34m()\u001b[0m\n\u001b[1;32m      4\u001b[0m \u001b[39mdef\u001b[39;00m \u001b[39mmain\u001b[39m():\n\u001b[0;32m----> 5\u001b[0m     total \u001b[39m=\u001b[39m running_sum()\n\u001b[1;32m      6\u001b[0m     inputNums \u001b[39m=\u001b[39m [\u001b[39m1\u001b[39m, [\u001b[39m2\u001b[39m, \u001b[39m3\u001b[39m], \u001b[39m4\u001b[39m, [\u001b[39m5\u001b[39m, [\u001b[39m6\u001b[39m, \u001b[39m7\u001b[39m]], \u001b[39m8\u001b[39m]\n\u001b[1;32m      7\u001b[0m     listSum \u001b[39m=\u001b[39m \u001b[39msum\u001b[39m(inputNums, total)\n",
      "\u001b[0;31mNameError\u001b[0m: name 'running_sum' is not defined"
     ]
    }
   ],
   "source": [
    "#call on main (main gets executed)\n",
    "main()\n",
    "\n",
    "def main():\n",
    "    total = listSum()\n",
    "    inputNums = [1, [2, 3], 4, [5, [6, 7]], 8]\n",
    "    listSum = sum(inputNums, total)\n",
    "    print(\"The grand total of the list is\", listSum)\n",
    "\n",
    "def sum(list, total):\n",
    "    print(\"Entering sum function.\")\n",
    "    for i in list:\n",
    "        #IF the element i is a list\n",
    "        if type(i) == type([]):\n",
    "            print(\"Inner list found!\")\n",
    "            innerTotal = listSum()\n",
    "            total.add(sum(i, innerTotal))\n",
    "        else:\n",
    "            total.add(i)\n",
    "    print(\"Returning\", total.getTotal(), \"from sum function.\")\n",
    "    return total.getTotal()\n",
    "\n",
    "class listSum:\n",
    "    #instance data of iter_data objects\n",
    "    total = 0\n",
    "    #__init__ functions are constructors\n",
    "    def __init__(self):\n",
    "        print(\"iter_data object created\")\n",
    "\n",
    "    def getTotal(self):\n",
    "        return self.total\n",
    "    \n",
    "    def add(self, num):\n",
    "        self.total = self.total + num\n",
    "    "
   ]
  },
  {
   "cell_type": "code",
   "execution_count": 25,
   "metadata": {},
   "outputs": [
    {
     "name": "stdout",
     "output_type": "stream",
     "text": [
      "Enter book title:\n",
      "Enter author:\n",
      "Book title: Way of Kings\n",
      "By Brandon Sanderson\n"
     ]
    }
   ],
   "source": [
    "class Book:\n",
    "    def __init__(self, author, title):\n",
    "        self.author = author\n",
    "        self.title = title\n",
    "    def getAuthor(self):\n",
    "        return self.author\n",
    "    def getTitle(self):\n",
    "        return self.title\n",
    "\n",
    "def main():\n",
    "    print(\"Enter book title:\")\n",
    "    title = input()\n",
    "    print(\"Enter author:\")\n",
    "    author = input()\n",
    "    myBook = Book(author, title)\n",
    "    print(\"Book title:\", myBook.getTitle())\n",
    "    print(\"By\", myBook.getAuthor())\n",
    "\n",
    "main()\n"
   ]
  },
  {
   "cell_type": "code",
   "execution_count": 42,
   "metadata": {},
   "outputs": [
    {
     "name": "stdout",
     "output_type": "stream",
     "text": [
      "1 this is a primitive\n",
      "2 this is a list\n",
      "3 this is a list\n",
      "0\n"
     ]
    }
   ],
   "source": [
    "x = [1, [2, 3]]\n",
    "total = 0\n",
    "for i in x:\n",
    "    if type(i) == type([]):\n",
    "        for j in i:\n",
    "            print(j, \"this is a list\")\n",
    "    else:\n",
    "        print(i, \"this is a primitive\")\n",
    "print(total)"
   ]
  },
  {
   "cell_type": "code",
   "execution_count": 53,
   "metadata": {},
   "outputs": [
    {
     "name": "stdout",
     "output_type": "stream",
     "text": [
      "1\n"
     ]
    }
   ],
   "source": [
    "x = {\n",
    "    'a': 1,\n",
    "    'b': 2,\n",
    "    'c': 3,\n",
    "}\n",
    "print(x['a'])\n"
   ]
  },
  {
   "cell_type": "code",
   "execution_count": 70,
   "metadata": {},
   "outputs": [
    {
     "name": "stdout",
     "output_type": "stream",
     "text": [
      "Years ago in a drafty\n",
      "castle duke david of dundeedle\n",
      "did dwell it was a deep dungeon\n",
      "it was a dark dungeon it was a\n",
      "deep dark damp dreary dungeon\n",
      "it was a dump\n"
     ]
    }
   ],
   "source": [
    "#File IO\n",
    "def main():\n",
    "    f = open(\"dtext.txt\", \"r+\")\n",
    "    print(f.read())\n",
    "    f.write(\" and smelly!\")\n",
    "main()"
   ]
  }
 ],
 "metadata": {
  "kernelspec": {
   "display_name": "Python 3",
   "language": "python",
   "name": "python3"
  },
  "language_info": {
   "codemirror_mode": {
    "name": "ipython",
    "version": 3
   },
   "file_extension": ".py",
   "mimetype": "text/x-python",
   "name": "python",
   "nbconvert_exporter": "python",
   "pygments_lexer": "ipython3",
   "version": "3.9.6"
  },
  "orig_nbformat": 4
 },
 "nbformat": 4,
 "nbformat_minor": 2
}
